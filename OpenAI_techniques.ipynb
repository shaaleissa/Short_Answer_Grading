{
 "cells": [
  {
   "cell_type": "code",
   "execution_count": null,
   "metadata": {},
   "outputs": [],
   "source": [
    "!pip install --upgrade openai\n"
   ]
  },
  {
   "cell_type": "code",
   "execution_count": null,
   "metadata": {},
   "outputs": [],
   "source": [
    "import pandas as pd\n",
    "from sklearn.model_selection import train_test_split\n",
    "import json\n",
    "\n",
    "# Load your dataset\n",
    "csv_file = 'dataset_with_grades.csv'\n",
    "data = pd.read_csv(csv_file)\n",
    "\n",
    "# Split the dataset into training and validation sets\n",
    "train, validation = train_test_split(data, test_size=0.2)\n",
    "\n",
    "def convert_to_chat_jsonl(df, filename):\n",
    "    \"\"\"\n",
    "    Converts a DataFrame to a JSONL file suitable for training with GPT-3.5-turbo in chat format.\n",
    "    :param df: DataFrame to convert.\n",
    "    :param filename: Output filename for the JSONL file.\n",
    "    \"\"\"\n",
    "    with open(filename, 'w') as file:\n",
    "        for _, row in df.iterrows():\n",
    "            # Construct a chat-like interaction\n",
    "            chat_interaction = {\n",
    "                \"messages\": [\n",
    "                    {\"role\": \"system\", \"content\": \"You are a tutor assistant.\"},\n",
    "                    {\"role\": \"user\", \"content\": f\"What is the answer to this question: {row['Question']}\"},\n",
    "                    {\"role\": \"assistant\", \"content\": f\"The answer is {row['Instructor Answer']}.\"},\n",
    "                    {\"role\": \"user\", \"content\": f\"My answer is: {row['Student Answer']}\"},\n",
    "                    {\"role\": \"assistant\", \"content\": f\"Your answer is graded as {row['grade']}.\"}\n",
    "                ]\n",
    "            }\n",
    "            file.write(json.dumps(chat_interaction) + '\\n')\n",
    "\n",
    "# Convert and save the training and validation sets\n",
    "convert_to_chat_jsonl(train, 'Dataset/training_data.jsonl')\n",
    "convert_to_chat_jsonl(validation, 'Dataset/validation_data.jsonl')\n",
    "\n",
    "print(\"Data has been split and converted to JSONL format for chat-based model training.\")\n"
   ]
  },
  {
   "cell_type": "code",
   "execution_count": null,
   "metadata": {},
   "outputs": [],
   "source": [
    "from openai import OpenAI\n",
    "import os\n",
    "\n",
    "with open('/Users/shahadaleissa/NLP_project/hidden.txt') as f:\n",
    "        key = f.read()\n",
    "client = OpenAI(api_key=key)\n",
    "\n",
    "client.files.create(\n",
    "  file=open(\"Dataset/training_data.jsonl\", \"rb\"),\n",
    "  purpose=\"fine-tune\"\n",
    ")\n",
    "client.files.create(\n",
    "  file=open(\"Dataset/validation_data.jsonl\", \"rb\"),\n",
    "  purpose=\"fine-tune\"\n",
    ")\n",
    "\n",
    "client.files.list()\n"
   ]
  },
  {
   "cell_type": "code",
   "execution_count": null,
   "metadata": {},
   "outputs": [],
   "source": [
    "client.fine_tuning.jobs.create(\n",
    "  training_file=\"file-OeIFmrX4KtV5K4PtWTlIZ5Rn\", \n",
    "  validation_file=\"file-RvjvE1oiYaANy9au5pbpcRPQ\",\n",
    "  model=\"gpt-3.5-turbo\",\n",
    "  hyperparameters={\n",
    "    \"n_epochs\":2\n",
    "  }\n",
    ")"
   ]
  },
  {
   "cell_type": "code",
   "execution_count": null,
   "metadata": {},
   "outputs": [],
   "source": [
    "# Retrieve the state of a fine-tune\n",
    "client.fine_tuning.jobs.retrieve(\"ftjob-dUy56trxMPdEGPYA9dQQPgOu\")"
   ]
  },
  {
   "cell_type": "code",
   "execution_count": null,
   "metadata": {},
   "outputs": [],
   "source": [
    "\n",
    "response = client.chat.completions.create(\n",
    "  model=\"ft:gpt-3.5-turbo-0613:personal::8MwNH76d\",\n",
    "  messages= [\n",
    "    {\"role\": \"system\", \"content\": \"You are a tutor assistant.\"}, \n",
    "    {\"role\": \"user\", \"content\": \"What is the answer to this question: What is a tree?\"}, \n",
    "    {\"role\": \"assistant\", \"content\": \"A tree is a hierarchical data structure defined as a collection of nodes. Nodes represent value and nodes are connected by edges. A tree has the following properties: The tree has one node called root. The tree originates from this, and hence it does not have any parent.\"}, \n",
    "    {\"role\": \"user\", \"content\": \"My answer is: A data structure\"}\n",
    "  ]\n",
    ")\n",
    "\n",
    "print(response.choices[0].message.content)"
   ]
  }
 ],
 "metadata": {
  "kernelspec": {
   "display_name": "Python 3",
   "language": "python",
   "name": "python3"
  },
  "language_info": {
   "codemirror_mode": {
    "name": "ipython",
    "version": 3
   },
   "file_extension": ".py",
   "mimetype": "text/x-python",
   "name": "python",
   "nbconvert_exporter": "python",
   "pygments_lexer": "ipython3",
   "version": "3.10.13"
  }
 },
 "nbformat": 4,
 "nbformat_minor": 2
}
